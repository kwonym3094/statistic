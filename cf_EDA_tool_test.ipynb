{
 "metadata": {
  "language_info": {
   "codemirror_mode": {
    "name": "ipython",
    "version": 3
   },
   "file_extension": ".py",
   "mimetype": "text/x-python",
   "name": "python",
   "nbconvert_exporter": "python",
   "pygments_lexer": "ipython3",
   "version": "3.8.3-final"
  },
  "orig_nbformat": 2,
  "kernelspec": {
   "name": "python3",
   "display_name": "Python 3",
   "language": "python"
  }
 },
 "nbformat": 4,
 "nbformat_minor": 2,
 "cells": [
  {
   "cell_type": "code",
   "execution_count": 3,
   "metadata": {},
   "outputs": [
    {
     "output_type": "stream",
     "name": "stderr",
     "text": [
      "Done! Use 'show' commands to display/save.   |██████████| [100%]   00:00 -> (00:00 left)\n",
      "Report weather_report.html was generated! NOTEBOOK/COLAB USERS: the web browser MAY not pop up, regardless, the report IS saved in your notebook/colab files.\n"
     ]
    }
   ],
   "source": [
    "'''\n",
    "sweetviz : EDA를 단 두줄에 쉽게 할 수 있도록 하여 시각화 해주는 파이썬 오픈소스\n",
    "    # pandas dataframe을 사용하고 독립된 html로 생성\n",
    "    # 2개의 데이터 비교 가능\n",
    "    # 기타 데이터들과 특정 목표 값의 비교 가능\n",
    "'''\n",
    "\n",
    "import pandas as pd\n",
    "import sweetviz as sv\n",
    "\n",
    "data = pd.read_csv('../data/weather.csv')\n",
    "report = sv.analyze(data)\n",
    "report.show_html('weather_report.html')"
   ]
  }
 ]
}