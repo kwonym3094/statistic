{
 "metadata": {
  "language_info": {
   "codemirror_mode": {
    "name": "ipython",
    "version": 3
   },
   "file_extension": ".py",
   "mimetype": "text/x-python",
   "name": "python",
   "nbconvert_exporter": "python",
   "pygments_lexer": "ipython3",
   "version": "3.8.3-final"
  },
  "orig_nbformat": 2,
  "kernelspec": {
   "name": "python3",
   "display_name": "Python 3",
   "language": "python"
  }
 },
 "nbformat": 4,
 "nbformat_minor": 2,
 "cells": [
  {
   "cell_type": "code",
   "execution_count": 1,
   "metadata": {},
   "outputs": [
    {
     "output_type": "execute_result",
     "data": {
      "text/plain": [
       "\"\\nstats.wilcoxon(data.variable - mu, alternative = 'greater' or 'less' or 'two.sided')\\n# data.variable - mu : wilcoxon mu의 기본값은 0\\n# alternative : 대립가설\\n# 'greater'   = mu > 0\\n# 'less'      = mu < 0\\n# 'two-sided' = mu != 0\\n\""
      ]
     },
     "metadata": {},
     "execution_count": 1
    }
   ],
   "source": [
    "from scipy import stats\n",
    "'''\n",
    "stats.wilcoxon(data.variable - mu, alternative = 'greater' or 'less' or 'two.sided')\n",
    "# data.variable - mu : wilcoxon mu의 기본값은 0\n",
    "# alternative : 대립가설\n",
    "# 'greater'   = mu > 0\n",
    "# 'less'      = mu < 0\n",
    "# 'two-sided' = mu != 0\n",
    "'''"
   ]
  },
  {
   "cell_type": "code",
   "execution_count": 33,
   "metadata": {},
   "outputs": [
    {
     "output_type": "execute_result",
     "data": {
      "text/plain": [
       "WilcoxonResult(statistic=2.0, pvalue=0.7035099509912867)"
      ]
     },
     "metadata": {},
     "execution_count": 33
    }
   ],
   "source": [
    "a=[31.8,39.1, 2]\n",
    "b=[35.5,27.6,21.3]\n",
    "stats.wilcoxon(a,b, correction=False, alternative='greater', mode='approx')"
   ]
  },
  {
   "cell_type": "code",
   "execution_count": 23,
   "metadata": {},
   "outputs": [
    {
     "output_type": "execute_result",
     "data": {
      "text/plain": [
       "[31.8, 39.1, 35.5, 27.6, 21.3]"
      ]
     },
     "metadata": {},
     "execution_count": 23
    }
   ],
   "source": [
    "a+b"
   ]
  },
  {
   "cell_type": "code",
   "execution_count": null,
   "metadata": {},
   "outputs": [],
   "source": []
  },
  {
   "cell_type": "code",
   "execution_count": null,
   "metadata": {},
   "outputs": [],
   "source": []
  }
 ]
}