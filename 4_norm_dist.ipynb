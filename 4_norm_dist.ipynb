{
 "cells": [
  {
   "cell_type": "code",
   "execution_count": 10,
   "metadata": {
    "collapsed": true
   },
   "outputs": [
    {
     "data": {
      "text/plain": "<Figure size 432x288 with 1 Axes>",
      "image/png": "[encoded data removed]"
     },
     "metadata": {
      "needs_background": "light"
     },
     "output_type": "display_data"
    }
   ],
   "source": [
    "# 정규확률분포 그리기\n",
    "import numpy as np\n",
    "from scipy.stats import norm\n",
    "import matplotlib.pyplot as plt\n",
    "rv = norm(loc=0,scale=1) # 평균이 0이고 표준편차 1인 정규분포 객체 만들기\n",
    "x = np.arange(-3,3,0.01) # 확률변수 x의 범위\n",
    "y = rv.pdf(x) # x범위에 따른 정규확률밀도값\n",
    "fig, ax = plt.subplots(1,1)\n",
    "ax.plot(x,y,'bo',label='normal pdf')\n",
    "ax.vlines(x,0,y,colors='b',lw=5,alpha=0.5)\n",
    "ax.set_ylim([0,1.05])\n",
    "plt.show()"
   ]
  },
  {
   "cell_type": "code",
   "execution_count": 33,
   "outputs": [
    {
     "name": "stdout",
     "output_type": "stream",
     "text": [
      "m=0, sigma=1인 정규분포에서 P(X<=2) = 0.9772498680518208\n",
      "m=0, sigma=1인 정규분포에서 P(X>=2) = 0.022750131948179195\n",
      "m=0, sigma=1인 정규분포에서 P(X<=x) = 0.05를 만족하는 a = -1.6448536269514729\n",
      "m=0, sigma=1인 정규분포에서 P(X>=x) = 0.05를 만족하는 a = 1.6448536269514729\n"
     ]
    }
   ],
   "source": [
    "# 정규분포에서 P(X<=x)인 Z(alpha) 면적 구하기: norm.cdf(x,loc,scale)\n",
    "# = R: pnorm(x,mu,sigma)\n",
    "print('m=0, sigma=1인 정규분포에서 P(X<=2) = {0}'.format(norm.cdf(x=2, loc=0, scale=1)))\n",
    "\n",
    "print('m=0, sigma=1인 정규분포에서 P(X>=2) = {0}'.format(norm.sf(x=2, loc=0, scale=1)))\n",
    "\n",
    "# 정규분포에서 a=P(X=x)를 만족하는 x\n",
    "# = R: qnorm(q, loc, scale)\n",
    "print('m=0, sigma=1인 정규분포에서 P(X<=x) = 0.05를 만족하는 a = {0}'.format(norm.ppf(q=0.05, loc=0, scale=1)))\n",
    "print('m=0, sigma=1인 정규분포에서 P(X>=x) = 0.05를 만족하는 a = {0}'.format(norm.isf(q=0.05, loc=0, scale=1)))"
   ],
   "metadata": {
    "collapsed": false,
    "pycharm": {
     "name": "#%%\n"
    }
   }
  },
  {
   "cell_type": "code",
   "execution_count": null,
   "outputs": [],
   "source": [
    "# given random variable X (house price) with population muy = 60, sigma = 40\n",
    "\n",
    "\n",
    "#a. Find P(X<50)\n",
    "norm.cdf(x=50,loc=60,scale=40) # 0.4012936743170763\n",
    "\n",
    "#b. Find P(X>=50)\n",
    "norm.sf(x=50,loc=60,scale=40) # 0.5987063256829237\n",
    "\n",
    "#c. Find P(60<=X<=80)\n",
    "norm.cdf(x=80,loc=60,scale=40) - norm.cdf(x=60,loc=60,scale=40)\n",
    "\n",
    "#d. how much top most 5% expensive house cost at least? or find x where P(X>=x) = 0.05\n",
    "norm.isf(q=0.05,loc=60,scale=40)\n",
    "\n",
    "#e. how much top most 5% cheapest house cost at least? or find x where P(X<=x) = 0.05\n",
    "norm.ppf(q=0.05,loc=60,scale=40)"
   ],
   "metadata": {
    "collapsed": false,
    "pycharm": {
     "name": "#%%\n"
    }
   }
  },
  {
   "cell_type": "code",
   "execution_count": 2,
   "outputs": [
    {
     "data": {
      "text/plain": "0.14230965435593923"
     },
     "execution_count": 2,
     "metadata": {},
     "output_type": "execute_result"
    }
   ],
   "source": [
    "from scipy.stats import norm\n",
    "norm.cdf(x=-1.415,loc=0,scale=1)\n",
    "norm.sf(x=1.07,loc=0,scale=1)"
   ],
   "metadata": {
    "collapsed": false,
    "pycharm": {
     "name": "#%%\n"
    }
   }
  }
 ],
 "metadata": {
  "kernelspec": {
   "display_name": "Python 3",
   "language": "python",
   "name": "python3"
  },
  "language_info": {
   "codemirror_mode": {
    "name": "ipython",
    "version": 2
   },
   "file_extension": ".py",
   "mimetype": "text/x-python",
   "name": "python",
   "nbconvert_exporter": "python",
   "pygments_lexer": "ipython2",
   "version": "2.7.6"
  }
 },
 "nbformat": 4,
 "nbformat_minor": 0
}